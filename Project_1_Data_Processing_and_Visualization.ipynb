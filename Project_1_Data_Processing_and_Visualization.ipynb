{
  "cells": [
    {
      "cell_type": "markdown",
      "id": "a2040e3d-bfb8-40b8-8861-4485db413cf7",
      "metadata": {
        "id": "a2040e3d-bfb8-40b8-8861-4485db413cf7"
      },
      "source": [
        "#**Interactive Data Processing and Visualization using NumPy and Pandas**\n",
        "This project aims to use NumPy for data cleaning, reading, and processing, focusing on the latitude and longitude columns included in our dataset.\n",
        "\n"
      ]
    },
    {
      "cell_type": "markdown",
      "id": "f86691c8-d0b3-4c58-bd5b-dcfe1c2b5ff2",
      "metadata": {
        "id": "f86691c8-d0b3-4c58-bd5b-dcfe1c2b5ff2"
      },
      "source": [
        "## Downloading the Dataset\n",
        "\n",
        "Downloading some prerequisite packages in order to run all the code below."
      ]
    },
    {
      "cell_type": "code",
      "source": [
        "%%capture\n",
        "!pip install numpy pandas streamlit gdown currencyconverter"
      ],
      "metadata": {
        "id": "J3MB5-_L32bV"
      },
      "id": "J3MB5-_L32bV",
      "execution_count": 1,
      "outputs": []
    },
    {
      "cell_type": "code",
      "source": [
        "import numpy as np\n",
        "\n",
        "# For readability purposes, we will disable scientific notation for numbers\n",
        "np.set_printoptions(suppress=True)"
      ],
      "metadata": {
        "id": "TCoESZJw7Xfs"
      },
      "id": "TCoESZJw7Xfs",
      "execution_count": 2,
      "outputs": []
    },
    {
      "cell_type": "code",
      "execution_count": 3,
      "id": "73934f9d-54f0-4c72-9bb3-7bfdb11419f2",
      "metadata": {
        "id": "73934f9d-54f0-4c72-9bb3-7bfdb11419f2",
        "colab": {
          "base_uri": "https://localhost:8080/",
          "height": 105
        },
        "outputId": "87a29314-e299-4e2f-d741-a68415583c91"
      },
      "outputs": [
        {
          "output_type": "stream",
          "name": "stderr",
          "text": [
            "Downloading...\n",
            "From: https://drive.google.com/uc?id=13fyESiH1ZEnMV6eabAyhe20t4W6peEWK\n",
            "To: /content/WK1_Airbnb_Amsterdam_listings_proj.csv\n",
            "100%|██████████| 246k/246k [00:00<00:00, 15.9MB/s]\n"
          ]
        },
        {
          "output_type": "execute_result",
          "data": {
            "text/plain": [
              "'WK1_Airbnb_Amsterdam_listings_proj.csv'"
            ],
            "application/vnd.google.colaboratory.intrinsic+json": {
              "type": "string"
            }
          },
          "metadata": {},
          "execution_count": 3
        }
      ],
      "source": [
        "import os\n",
        "import shutil\n",
        "\n",
        "import gdown\n",
        "from numpy import genfromtxt\n",
        "\n",
        "# Download file from Google Drive\n",
        "# This file is based on data from: http://insideairbnb.com/get-the-data/\n",
        "file_id_1 = \"13fyESiH1ZEnMV6eabAyhe20t4W6peEWK\"\n",
        "downloaded_file_1 = \"WK1_Airbnb_Amsterdam_listings_proj.csv\"\n",
        "\n",
        "# Download the file from Google Drive\n",
        "gdown.download(id=file_id_1, output=downloaded_file_1)"
      ]
    },
    {
      "cell_type": "markdown",
      "id": "f4f4a85f-ad1a-46c0-8978-a049fa91dd72",
      "metadata": {
        "id": "f4f4a85f-ad1a-46c0-8978-a049fa91dd72"
      },
      "source": [
        "## Preprocessing the Dataset\n"
      ]
    },
    {
      "cell_type": "markdown",
      "id": "5b75635e-469f-45ef-bf57-2bd22c03e7e7",
      "metadata": {
        "id": "5b75635e-469f-45ef-bf57-2bd22c03e7e7"
      },
      "source": [
        "#### Task 1: Finding delimiter"
      ]
    },
    {
      "cell_type": "code",
      "execution_count": 4,
      "id": "887bc0b0-3a61-4cf4-a534-d9dee0f639b8",
      "metadata": {
        "id": "887bc0b0-3a61-4cf4-a534-d9dee0f639b8"
      },
      "outputs": [],
      "source": [
        "from numpy import genfromtxt\n",
        "\n",
        "my_data = genfromtxt(\"/content/WK1_Airbnb_Amsterdam_listings_proj.csv\", delimiter=\"|\",dtype=\"unicode\")"
      ]
    },
    {
      "cell_type": "code",
      "source": [
        "my_data[:,:4]"
      ],
      "metadata": {
        "id": "IVG_WkJzg0KC",
        "colab": {
          "base_uri": "https://localhost:8080/"
        },
        "outputId": "9995d173-d074-4ac4-a6d5-606fe9389fc3"
      },
      "id": "IVG_WkJzg0KC",
      "execution_count": 5,
      "outputs": [
        {
          "output_type": "execute_result",
          "data": {
            "text/plain": [
              "array([['', '0', '1', '2'],\n",
              "       ['id', '23726706', '35815036', '31553121'],\n",
              "       ['price', '$88.00', '$105.00', '$152.00'],\n",
              "       ['latitude', '52.34916', '52.42419', '52.43237'],\n",
              "       ['longitude', '4.97879', '4.95689', '4.91821']], dtype='<U18')"
            ]
          },
          "metadata": {},
          "execution_count": 5
        }
      ]
    },
    {
      "cell_type": "markdown",
      "id": "6148c44a-aefe-474c-a5ab-7c7d9aad86c0",
      "metadata": {
        "id": "6148c44a-aefe-474c-a5ab-7c7d9aad86c0"
      },
      "source": [
        "#### Task 2: Clean the data\n"
      ]
    },
    {
      "cell_type": "code",
      "execution_count": 6,
      "id": "62d32bbd-33e5-4dbe-b448-4f932c2119f2",
      "metadata": {
        "id": "62d32bbd-33e5-4dbe-b448-4f932c2119f2",
        "colab": {
          "base_uri": "https://localhost:8080/"
        },
        "outputId": "40bc4afd-61fc-46f5-f7ef-7ac90c49cedc"
      },
      "outputs": [
        {
          "output_type": "execute_result",
          "data": {
            "text/plain": [
              "array([['23726706', '35815036', '31553121', '34745823'],\n",
              "       ['$88.00', '$105.00', '$152.00', '$87.00'],\n",
              "       ['52.34916', '52.42419', '52.43237', '52.2962'],\n",
              "       ['4.97879', '4.95689', '4.91821', '5.01231']], dtype='<U18')"
            ]
          },
          "metadata": {},
          "execution_count": 6
        }
      ],
      "source": [
        "# Remove the first column and row\n",
        "matrix = my_data[1:,1:]\n",
        "matrix[:,:4]\n"
      ]
    },
    {
      "cell_type": "markdown",
      "id": "f221f2b8-872b-432b-83da-abe0c74d0e6d",
      "metadata": {
        "id": "f221f2b8-872b-432b-83da-abe0c74d0e6d"
      },
      "source": [
        "#### Task 3:Shifting the matrix\n"
      ]
    },
    {
      "cell_type": "code",
      "execution_count": 7,
      "id": "b7210723-75ef-48ce-b568-2c2aeebfb013",
      "metadata": {
        "id": "b7210723-75ef-48ce-b568-2c2aeebfb013",
        "colab": {
          "base_uri": "https://localhost:8080/"
        },
        "outputId": "9a778e83-ae57-4558-a384-8e5671be10be"
      },
      "outputs": [
        {
          "output_type": "execute_result",
          "data": {
            "text/plain": [
              "array([['23726706', '$88.00', '52.34916', '4.97879'],\n",
              "       ['35815036', '$105.00', '52.42419', '4.95689'],\n",
              "       ['31553121', '$152.00', '52.43237', '4.91821'],\n",
              "       ['34745823', '$87.00', '52.2962', '5.01231'],\n",
              "       ['44586947', '$160.00', '52.31475', '5.0303']], dtype='<U18')"
            ]
          },
          "metadata": {},
          "execution_count": 7
        }
      ],
      "source": [
        "# Shift the matrix by 90 degrees\n",
        "matrix =  matrix.T\n",
        "matrix[:5,:]"
      ]
    },
    {
      "cell_type": "markdown",
      "id": "74231480-3ab7-463a-ae18-e7f7cf81764a",
      "metadata": {
        "id": "74231480-3ab7-463a-ae18-e7f7cf81764a"
      },
      "source": [
        "#### Task 4: Removing special characters\n"
      ]
    },
    {
      "cell_type": "code",
      "execution_count": 8,
      "id": "d912e33e-cc33-4e03-9163-7f061bac3711",
      "metadata": {
        "id": "d912e33e-cc33-4e03-9163-7f061bac3711"
      },
      "outputs": [],
      "source": [
        "# Remove the dollar sign\n",
        "matrix = np.char.replace(matrix, \"$\", \"\")\n",
        "\n",
        "# Remove the comma\n",
        "matrix = np.char.replace(matrix,\",\",\"\")"
      ]
    },
    {
      "cell_type": "markdown",
      "source": [
        "Now the dataset contains only numerical values allowing us to perform numerical operations."
      ],
      "metadata": {
        "id": "59P9Vhe-kH06"
      },
      "id": "59P9Vhe-kH06"
    },
    {
      "cell_type": "markdown",
      "source": [
        "#### Task 5: Verifying the matrix\n",
        "\n"
      ],
      "metadata": {
        "id": "jf6FdM8pk6BN"
      },
      "id": "jf6FdM8pk6BN"
    },
    {
      "cell_type": "code",
      "source": [
        "# Check if the dollar sign is in our dataset\n",
        "matrix[np.char.find(matrix,\"$\") > -1]"
      ],
      "metadata": {
        "id": "zuicHsxMohnz",
        "colab": {
          "base_uri": "https://localhost:8080/"
        },
        "outputId": "a402f6a9-9939-44e1-c88a-24757b60413c"
      },
      "id": "zuicHsxMohnz",
      "execution_count": 9,
      "outputs": [
        {
          "output_type": "execute_result",
          "data": {
            "text/plain": [
              "array([], dtype='<U18')"
            ]
          },
          "metadata": {},
          "execution_count": 9
        }
      ]
    },
    {
      "cell_type": "code",
      "source": [
        "matrix[np.char.find(matrix,\",\") > -1]"
      ],
      "metadata": {
        "id": "JjpYr2JZousV",
        "colab": {
          "base_uri": "https://localhost:8080/"
        },
        "outputId": "e07a69dd-8ebf-4a21-f764-9c5a9840e2bd"
      },
      "id": "JjpYr2JZousV",
      "execution_count": 10,
      "outputs": [
        {
          "output_type": "execute_result",
          "data": {
            "text/plain": [
              "array([], dtype='<U18')"
            ]
          },
          "metadata": {},
          "execution_count": 10
        }
      ]
    },
    {
      "cell_type": "markdown",
      "id": "ed389a6d-8ad2-46aa-b1fa-56c7851584c0",
      "metadata": {
        "id": "ed389a6d-8ad2-46aa-b1fa-56c7851584c0"
      },
      "source": [
        "#### Task 6: Data type\n",
        "\n",
        "\n",
        "\n",
        "Enabling numerical operations (calculations) by change the `dtype` from string/Unicode characters to [float of 32-bit precision]\n"
      ]
    },
    {
      "cell_type": "code",
      "execution_count": 11,
      "id": "c78d95bf-bf7c-4342-9004-1f80616598ff",
      "metadata": {
        "id": "c78d95bf-bf7c-4342-9004-1f80616598ff",
        "colab": {
          "base_uri": "https://localhost:8080/"
        },
        "outputId": "c8f6860e-6719-4c4a-93fc-6576d59ef367"
      },
      "outputs": [
        {
          "output_type": "execute_result",
          "data": {
            "text/plain": [
              "array([[23726706.     ,       88.     ,       52.34916,        4.97879],\n",
              "       [35815036.     ,      105.     ,       52.42419,        4.95689],\n",
              "       [31553120.     ,      152.     ,       52.43237,        4.91821],\n",
              "       [34745824.     ,       87.     ,       52.2962 ,        5.01231],\n",
              "       [44586948.     ,      160.     ,       52.31475,        5.0303 ]],\n",
              "      dtype=float32)"
            ]
          },
          "metadata": {},
          "execution_count": 11
        }
      ],
      "source": [
        "# Change Unicode to float32\n",
        "matrix = matrix.astype(np.float32)\n",
        "matrix[:5,:]"
      ]
    },
    {
      "cell_type": "markdown",
      "id": "16249349-8d37-4d24-b0c4-8a416aeda7ea",
      "metadata": {
        "id": "16249349-8d37-4d24-b0c4-8a416aeda7ea"
      },
      "source": [
        "## Setting up the price\n",
        "\n",
        "Currency from USD to INR"
      ]
    },
    {
      "cell_type": "code",
      "execution_count": 12,
      "id": "93e4e8b3-6f19-4e31-a324-2bd94dc461a2",
      "metadata": {
        "id": "93e4e8b3-6f19-4e31-a324-2bd94dc461a2",
        "colab": {
          "base_uri": "https://localhost:8080/"
        },
        "outputId": "0e5a69cc-eab8-4d23-a518-24b1f66caad9"
      },
      "outputs": [
        {
          "output_type": "execute_result",
          "data": {
            "text/plain": [
              "array([[23726706.     ,       88.     ,       52.34916,        4.97879],\n",
              "       [35815036.     ,      105.     ,       52.42419,        4.95689],\n",
              "       [31553120.     ,      152.     ,       52.43237,        4.91821],\n",
              "       [34745824.     ,       87.     ,       52.2962 ,        5.01231],\n",
              "       [44586948.     ,      160.     ,       52.31475,        5.0303 ]],\n",
              "      dtype=float32)"
            ]
          },
          "metadata": {},
          "execution_count": 12
        }
      ],
      "source": [
        "from currency_converter import CurrencyConverter\n",
        "\n",
        "cc = CurrencyConverter()\n",
        "\n",
        "matrix[:5,:]"
      ]
    },
    {
      "cell_type": "code",
      "execution_count": 13,
      "id": "cf6d4cdd-ae46-4be5-9204-537f45d9b4f4",
      "metadata": {
        "id": "cf6d4cdd-ae46-4be5-9204-537f45d9b4f4",
        "colab": {
          "base_uri": "https://localhost:8080/"
        },
        "outputId": "2ae68c9a-38ac-475d-c1be-f7b2a0f9ac14"
      },
      "outputs": [
        {
          "output_type": "execute_result",
          "data": {
            "text/plain": [
              "array([ 88., 105., 152., ..., 180., 174.,  65.], dtype=float32)"
            ]
          },
          "metadata": {},
          "execution_count": 13
        }
      ],
      "source": [
        "matrix[:,1]"
      ]
    },
    {
      "cell_type": "markdown",
      "metadata": {
        "id": "MuUQATyL-CNj"
      },
      "source": [
        "#### Task 7: Pick any currency\n",
        "Picking INR currency from the list"
      ],
      "id": "MuUQATyL-CNj"
    },
    {
      "cell_type": "code",
      "source": [
        "cc.currencies"
      ],
      "metadata": {
        "id": "KhehQKENWBLm",
        "colab": {
          "base_uri": "https://localhost:8080/"
        },
        "outputId": "f630b27b-8631-4387-b631-2e4a59ad48ed"
      },
      "id": "KhehQKENWBLm",
      "execution_count": 14,
      "outputs": [
        {
          "output_type": "execute_result",
          "data": {
            "text/plain": [
              "{'AUD',\n",
              " 'BGN',\n",
              " 'BRL',\n",
              " 'CAD',\n",
              " 'CHF',\n",
              " 'CNY',\n",
              " 'CYP',\n",
              " 'CZK',\n",
              " 'DKK',\n",
              " 'EEK',\n",
              " 'EUR',\n",
              " 'GBP',\n",
              " 'HKD',\n",
              " 'HRK',\n",
              " 'HUF',\n",
              " 'IDR',\n",
              " 'ILS',\n",
              " 'INR',\n",
              " 'ISK',\n",
              " 'JPY',\n",
              " 'KRW',\n",
              " 'LTL',\n",
              " 'LVL',\n",
              " 'MTL',\n",
              " 'MXN',\n",
              " 'MYR',\n",
              " 'NOK',\n",
              " 'NZD',\n",
              " 'PHP',\n",
              " 'PLN',\n",
              " 'ROL',\n",
              " 'RON',\n",
              " 'RUB',\n",
              " 'SEK',\n",
              " 'SGD',\n",
              " 'SIT',\n",
              " 'SKK',\n",
              " 'THB',\n",
              " 'TRL',\n",
              " 'TRY',\n",
              " 'USD',\n",
              " 'ZAR'}"
            ]
          },
          "metadata": {},
          "execution_count": 14
        }
      ]
    },
    {
      "cell_type": "code",
      "execution_count": 15,
      "id": "3b1b9df8-6b29-41a8-8bce-1a51bb710ec9",
      "metadata": {
        "id": "3b1b9df8-6b29-41a8-8bce-1a51bb710ec9"
      },
      "outputs": [],
      "source": [
        "# Get the rate of conversaton from the US dollar to Indian Rupees\n",
        "INR_rate = cc.convert(1,\"USD\",\"INR\")\n",
        "\n",
        "# Multiply the dollar column by your currency of choice\n",
        "matrix[:, 1] = matrix[:,1] * INR_rate"
      ]
    },
    {
      "cell_type": "markdown",
      "id": "440efa8a-3c39-4615-a65a-e8ba956d6a9f",
      "metadata": {
        "id": "440efa8a-3c39-4615-a65a-e8ba956d6a9f"
      },
      "source": [
        "#### Task 8: Inflation?\n",
        "\n",
        "\n",
        "Recent inflation all around the world has caused many companies to raise their prices. Consequently, Airbnb listings have also raised their prices by a certain amount. So using 7% as value and applying this inflation rate to the newly updated prices."
      ]
    },
    {
      "cell_type": "code",
      "execution_count": 16,
      "id": "b9b77c45-ad45-424d-a826-91cc86712df6",
      "metadata": {
        "id": "b9b77c45-ad45-424d-a826-91cc86712df6",
        "colab": {
          "base_uri": "https://localhost:8080/"
        },
        "outputId": "87d0f8b1-fae2-427e-f6bc-5343a67df9f9"
      },
      "outputs": [
        {
          "output_type": "execute_result",
          "data": {
            "text/plain": [
              "array([ 7884.301,  9407.404, 13618.337, ..., 16126.979, 15589.413,\n",
              "        5823.631], dtype=float32)"
            ]
          },
          "metadata": {},
          "execution_count": 16
        }
      ],
      "source": [
        "# Multiply the dollar column by the inflation percentage (1.00 + inflation)\n",
        "matrix[:,1] = matrix[:,1] * 1.07\n",
        "matrix[:,1]"
      ]
    },
    {
      "cell_type": "markdown",
      "id": "3580b8ee-594a-4a79-8207-df656f23450c",
      "metadata": {
        "id": "3580b8ee-594a-4a79-8207-df656f23450c"
      },
      "source": [
        "#### Task 9: Rounding up decimals\n"
      ]
    },
    {
      "cell_type": "code",
      "execution_count": 17,
      "id": "4f62b24b-fb75-406d-92f0-033e1afec123",
      "metadata": {
        "id": "4f62b24b-fb75-406d-92f0-033e1afec123",
        "colab": {
          "base_uri": "https://localhost:8080/"
        },
        "outputId": "9f08ce19-dda2-4b59-8945-bc1e0b52e3aa"
      },
      "outputs": [
        {
          "output_type": "execute_result",
          "data": {
            "text/plain": [
              "array([[23726706.     ,     7884.3    ,       52.34916,        4.97879],\n",
              "       [35815036.     ,     9407.4    ,       52.42419,        4.95689],\n",
              "       [31553120.     ,    13618.34   ,       52.43237,        4.91821],\n",
              "       [34745824.     ,     7794.71   ,       52.2962 ,        5.01231],\n",
              "       [44586948.     ,    14335.09   ,       52.31475,        5.0303 ]],\n",
              "      dtype=float32)"
            ]
          },
          "metadata": {},
          "execution_count": 17
        }
      ],
      "source": [
        "# Round down the new currency column to 2 decimals\n",
        "matrix[:,1] = np.round(matrix[:,1], 2)\n",
        "matrix[:5,:]"
      ]
    },
    {
      "cell_type": "markdown",
      "id": "08eb3f54-9af1-483a-b6ac-354d6c77d77e",
      "metadata": {
        "id": "08eb3f54-9af1-483a-b6ac-354d6c77d77e"
      },
      "source": [
        "#### Task 10: Choose your location\n",
        "\n",
        "Look up a place you'd like to visit in Amsterdam's city center, along with its longitude and latitude. We want to save this for choosing an Airbnb listing to our liking.\n",
        "\n",
        "\n"
      ]
    },
    {
      "cell_type": "code",
      "execution_count": 18,
      "id": "61014b50-cceb-4f75-9d4f-639c197eec52",
      "metadata": {
        "id": "61014b50-cceb-4f75-9d4f-639c197eec52"
      },
      "outputs": [],
      "source": [
        "# Favorite location. List your coordiates as floats.\n",
        "# Ex from above: latitude = 52.3600, longitude = 4.8852\n",
        "latitude = 52.3708\n",
        "longitude =  4.9030"
      ]
    },
    {
      "cell_type": "markdown",
      "id": "4caaddc7-403f-4ed1-8593-2d1085bff3f7",
      "metadata": {
        "id": "4caaddc7-403f-4ed1-8593-2d1085bff3f7"
      },
      "source": [
        "## Listing All Listings\n",
        "\n",
        "<center>\n",
        "  <img src=https://images0.persgroep.net/rcs/vnd5KBhggcKV72YJjpLWH_-xljU/diocontent/131036963/_crop/34/170/1378/778/_fitwidth/763?appId=93a17a8fd81db0de025c8abd1cca1279&quality=0.8&desiredformat=webp width=\"500\" align=\"center\" />\n",
        "</center>\n",
        "<br/>\n",
        "\n",
        "Imagine Airbnb Amsterdam decided to deviate from Airbnb Global and provide a feature on their website that showed the best listings for you based on the locations you were planning to visit. Wouldn't it make sense to choose a place to stay in a location closest to where you're likely to go most often?\n",
        "\n",
        "You will limit your results to your favorite location in Amsterdam (as chosen above) and the surrounding available Airbnb listings using math and NumPy.\n",
        "\n"
      ]
    },
    {
      "cell_type": "code",
      "execution_count": 19,
      "id": "b8911e6f-321f-4d93-9e8a-feb558fb2502",
      "metadata": {
        "id": "b8911e6f-321f-4d93-9e8a-feb558fb2502"
      },
      "outputs": [],
      "source": [
        "import math\n",
        "\n",
        "def from_location_to_airbnb_listing_in_meters(lat1: float, lon1: float, lat2: list, lon2: list):\n",
        "    # Source: https://community.esri.com/t5/coordinate-reference-systems-blog\n",
        "    # /distance-on-a-sphere-the-haversine-formula/ba-p/902128\n",
        "\n",
        "    R = 6371000  # Radius of Earth in meters\n",
        "    phi_1 = math.radians(lat1)\n",
        "    phi_2 = math.radians(lat2)\n",
        "\n",
        "    delta_phi = math.radians(lat2 - lat1)\n",
        "    delta_lambda = math.radians(lon2 - lon1)\n",
        "\n",
        "    a = (\n",
        "        math.sin(delta_phi / 2.0) ** 2\n",
        "        + math.cos(phi_1) * math.cos(phi_2) * math.sin(delta_lambda / 2.0) ** 2\n",
        "    )\n",
        "\n",
        "    c = 2 * math.atan2(math.sqrt(a), math.sqrt(1 - a))\n",
        "\n",
        "    meters = R * c  # Output distance in meters\n",
        "\n",
        "    return round(meters, 0)"
      ]
    },
    {
      "cell_type": "markdown",
      "id": "1d059854-9eba-4c1e-bfbd-3aea2f3017ad",
      "metadata": {
        "id": "1d059854-9eba-4c1e-bfbd-3aea2f3017ad"
      },
      "source": [
        "#### Task 11: Loop or vectorize!\n"
      ]
    },
    {
      "cell_type": "code",
      "execution_count": 20,
      "id": "997ec8fa-5cc1-4fd3-ae01-fd53e0ffc0d6",
      "metadata": {
        "id": "997ec8fa-5cc1-4fd3-ae01-fd53e0ffc0d6",
        "colab": {
          "base_uri": "https://localhost:8080/"
        },
        "outputId": "2b646dc1-c5c2-47df-be10-cab9b57f0d35"
      },
      "outputs": [
        {
          "output_type": "execute_result",
          "data": {
            "text/plain": [
              "array([5681., 6972., 6924., ..., 6165., 6238., 5083.])"
            ]
          },
          "metadata": {},
          "execution_count": 20
        }
      ],
      "source": [
        "# Create a loop or vectorized way to calculate the distance,\n",
        "conv_to_meters = np.vectorize(from_location_to_airbnb_listing_in_meters)\n",
        "\n",
        "# going over all latitude and longitude entries in the dataset\n",
        "conv_to_meters(latitude, longitude, matrix[:, 2], matrix[:, 3])\n"
      ]
    },
    {
      "cell_type": "code",
      "source": [
        "#using `timeit` function to see how quickly the code is executed\n",
        "%%timeit -r 4 -n 100\n",
        "\n",
        "# Allow a Python function to be used in a (semi-)vectorized way\n",
        "conv_to_meters = np.vectorize(from_location_to_airbnb_listing_in_meters)\n",
        "\n",
        "# Apply the function, use timeit\n",
        "conv_to_meters(latitude, longitude, matrix[:, 2], matrix[:, 3])"
      ],
      "metadata": {
        "id": "m1oqM9C2D4sJ",
        "colab": {
          "base_uri": "https://localhost:8080/"
        },
        "outputId": "01372df2-9aa5-4f52-d4cc-3130f97d7b80"
      },
      "id": "m1oqM9C2D4sJ",
      "execution_count": 21,
      "outputs": [
        {
          "output_type": "stream",
          "name": "stdout",
          "text": [
            "44.2 ms ± 8.83 ms per loop (mean ± std. dev. of 4 runs, 100 loops each)\n"
          ]
        }
      ]
    },
    {
      "cell_type": "markdown",
      "id": "080e07c8-2e37-4a46-89f0-6b73048697e5",
      "metadata": {
        "id": "080e07c8-2e37-4a46-89f0-6b73048697e5"
      },
      "source": [
        "Optimization is possible but is always a trade-off between the 'need for speed' and the 'need for delivery' of your results."
      ]
    },
    {
      "cell_type": "markdown",
      "id": "bab0fd01-6c42-46eb-b68a-28e66d63c2c6",
      "metadata": {
        "id": "bab0fd01-6c42-46eb-b68a-28e66d63c2c6"
      },
      "source": [
        "####Task 12: Through Numpy\n"
      ]
    },
    {
      "cell_type": "code",
      "execution_count": 22,
      "id": "b5a1712a-1b01-40c8-8d21-706001b22910",
      "metadata": {
        "id": "b5a1712a-1b01-40c8-8d21-706001b22910"
      },
      "outputs": [],
      "source": [
        "def from_location_to_airbnb_listing_in_meters(\n",
        "    lat1: float, lon1: float, lat2: np.ndarray, lon2: np.ndarray\n",
        "):\n",
        "    R = 6371000  # radius of Earth in meters\n",
        "    phi_1 = np.radians(lat1)\n",
        "    phi_2 = np.radians(lat2)\n",
        "\n",
        "    delta_phi = np.radians(lat2 - lat1)\n",
        "    delta_lambda = np.radians(lon2 - lon1)\n",
        "\n",
        "    a = (\n",
        "        np.sin(delta_phi / 2.0) ** 2\n",
        "        + np.cos(phi_1) * np.cos(phi_2) * np.sin(delta_lambda / 2.0) ** 2\n",
        "    )\n",
        "\n",
        "    c = 2 * np.arctan2(np.sqrt(a), np.sqrt(1 - a))\n",
        "\n",
        "    meters = R * c  # output distance in meters\n",
        "\n",
        "    return np.round(meters, 0)"
      ]
    },
    {
      "cell_type": "markdown",
      "source": [
        "####Task 13: How much faster is it now?\n"
      ],
      "metadata": {
        "id": "7G3KvDaeF9YD"
      },
      "id": "7G3KvDaeF9YD"
    },
    {
      "cell_type": "code",
      "source": [
        "%%timeit -r 4 -n 100\n",
        "\n",
        "from_location_to_airbnb_listing_in_meters(\n",
        "    latitude, longitude, matrix[:, 2], matrix[:, 3]\n",
        ")"
      ],
      "metadata": {
        "id": "z9lvmqysjpYG",
        "colab": {
          "base_uri": "https://localhost:8080/"
        },
        "outputId": "2d6f16ef-794b-42b6-b726-38e7dc5cd379"
      },
      "id": "z9lvmqysjpYG",
      "execution_count": 23,
      "outputs": [
        {
          "output_type": "stream",
          "name": "stdout",
          "text": [
            "848 µs ± 197 µs per loop (mean ± std. dev. of 4 runs, 100 loops each)\n"
          ]
        }
      ]
    },
    {
      "cell_type": "markdown",
      "source": [
        "There is a massive speed-up just by switching your functions from default Python functions to their NumPy variants.\n",
        "\n",
        "---"
      ],
      "metadata": {
        "id": "3Wwjec7vHDK_"
      },
      "id": "3Wwjec7vHDK_"
    },
    {
      "cell_type": "markdown",
      "id": "dc1d3c93-b298-4d7f-9382-5d97efd7d675",
      "metadata": {
        "id": "dc1d3c93-b298-4d7f-9382-5d97efd7d675"
      },
      "source": [
        "## Prep the Dataset for Download!\n",
        "\n",
        "\n",
        "Now that we've created a function to calculate the distance in meters for every Airbnb listing, we'll perform this calculation on the entire dataset and add the outputs to the matrix as a new column.\n",
        "\n",
        "Next to that, we'll add another column that contains only ones and zeros to represent the \"color\" of an entry/row. This column can be used later if you want to turn this dataset into an app using [Streamlit](https://streamlit.io/).\n",
        "\n"
      ]
    },
    {
      "cell_type": "code",
      "execution_count": 24,
      "id": "587b2c11-6b59-4075-b002-be8516c62b2d",
      "metadata": {
        "id": "587b2c11-6b59-4075-b002-be8516c62b2d"
      },
      "outputs": [],
      "source": [
        "# Run the previous method\n",
        "meters = from_location_to_airbnb_listing_in_meters(\n",
        "    latitude, longitude, matrix[:, 2], matrix[:, 3]\n",
        ")\n",
        "\n",
        "# Add an axis to make concatenation possible\n",
        "meters = meters.reshape(-1, 1)\n",
        "\n",
        "# Append the distance in meters to the matrix\n",
        "matrix = np.concatenate((matrix, meters), axis=1)"
      ]
    },
    {
      "cell_type": "code",
      "execution_count": 25,
      "id": "e60a7c93-fe1c-46d9-9e63-0e8635b0966d",
      "metadata": {
        "id": "e60a7c93-fe1c-46d9-9e63-0e8635b0966d",
        "colab": {
          "base_uri": "https://localhost:8080/"
        },
        "outputId": "edbc651a-d97b-4d8f-a050-d86cbe6700c6"
      },
      "outputs": [
        {
          "output_type": "execute_result",
          "data": {
            "text/plain": [
              "array([[       1.        ,        0.        ,       52.3708    ,\n",
              "               4.903     ,        0.        ,        1.        ],\n",
              "       [23726706.        ,     7884.29980469,       52.34915924,\n",
              "               4.97878981,     5681.        ,        0.        ],\n",
              "       [35815036.        ,     9407.40039062,       52.42419052,\n",
              "               4.95689011,     6972.        ,        0.        ],\n",
              "       [31553120.        ,    13618.33984375,       52.43236923,\n",
              "               4.91821003,     6924.        ,        0.        ],\n",
              "       [34745824.        ,     7794.70996094,       52.2961998 ,\n",
              "               5.01231003,    11134.        ,        0.        ]])"
            ]
          },
          "metadata": {},
          "execution_count": 25
        }
      ],
      "source": [
        "# Append a color to the matrix\n",
        "colors = np.zeros(meters.shape)\n",
        "matrix = np.concatenate((matrix, colors), axis=1)\n",
        "\n",
        "# Append our entry to the matrix\n",
        "fav_entry = np.array([1, 0, 52.3708, 4.9030, 0, 1]).reshape(1, -1) # Change coordinates to your favorite location\n",
        "matrix = np.concatenate((fav_entry, matrix), axis=0)\n",
        "\n",
        "# Entries: airbnb_id, price, latitude, longitude,\n",
        "# meters from favorite point, color\n",
        "matrix[:5, :]"
      ]
    },
    {
      "cell_type": "code",
      "execution_count": 26,
      "id": "2c9f02e3-9af7-4eb0-845d-96748114c5b3",
      "metadata": {
        "id": "2c9f02e3-9af7-4eb0-845d-96748114c5b3"
      },
      "outputs": [],
      "source": [
        "# Export the data to use in the primer for next week\n",
        "np.savetxt(\"WK1_Airbnb_Amsterdam_listings_proj_solution.csv\", matrix, delimiter=\",\")"
      ]
    },
    {
      "cell_type": "code",
      "source": [
        "from google.colab import files\n",
        "\n",
        "# Download the file locally\n",
        "files.download('WK1_Airbnb_Amsterdam_listings_proj_solution.csv')"
      ],
      "metadata": {
        "id": "x0nVFL3_6bCC",
        "colab": {
          "base_uri": "https://localhost:8080/",
          "height": 17
        },
        "outputId": "67cefa39-738b-4351-c349-afe8e772a4a7"
      },
      "id": "x0nVFL3_6bCC",
      "execution_count": 27,
      "outputs": [
        {
          "output_type": "display_data",
          "data": {
            "text/plain": [
              "<IPython.core.display.Javascript object>"
            ],
            "application/javascript": [
              "\n",
              "    async function download(id, filename, size) {\n",
              "      if (!google.colab.kernel.accessAllowed) {\n",
              "        return;\n",
              "      }\n",
              "      const div = document.createElement('div');\n",
              "      const label = document.createElement('label');\n",
              "      label.textContent = `Downloading \"${filename}\": `;\n",
              "      div.appendChild(label);\n",
              "      const progress = document.createElement('progress');\n",
              "      progress.max = size;\n",
              "      div.appendChild(progress);\n",
              "      document.body.appendChild(div);\n",
              "\n",
              "      const buffers = [];\n",
              "      let downloaded = 0;\n",
              "\n",
              "      const channel = await google.colab.kernel.comms.open(id);\n",
              "      // Send a message to notify the kernel that we're ready.\n",
              "      channel.send({})\n",
              "\n",
              "      for await (const message of channel.messages) {\n",
              "        // Send a message to notify the kernel that we're ready.\n",
              "        channel.send({})\n",
              "        if (message.buffers) {\n",
              "          for (const buffer of message.buffers) {\n",
              "            buffers.push(buffer);\n",
              "            downloaded += buffer.byteLength;\n",
              "            progress.value = downloaded;\n",
              "          }\n",
              "        }\n",
              "      }\n",
              "      const blob = new Blob(buffers, {type: 'application/binary'});\n",
              "      const a = document.createElement('a');\n",
              "      a.href = window.URL.createObjectURL(blob);\n",
              "      a.download = filename;\n",
              "      div.appendChild(a);\n",
              "      a.click();\n",
              "      div.remove();\n",
              "    }\n",
              "  "
            ]
          },
          "metadata": {}
        },
        {
          "output_type": "display_data",
          "data": {
            "text/plain": [
              "<IPython.core.display.Javascript object>"
            ],
            "application/javascript": [
              "download(\"download_dbbc8fbb-601e-4184-a2b4-501dfe8a8c8f\", \"WK1_Airbnb_Amsterdam_listings_proj_solution.csv\", 926100)"
            ]
          },
          "metadata": {}
        }
      ]
    },
    {
      "cell_type": "code",
      "source": [
        "%%writefile streamlit_app.py\n",
        "import pandas as pd\n",
        "import plotly.express as px\n",
        "import streamlit as st\n",
        "\n",
        "# Display title and text\n",
        "st.title(\"Data and visualization\")\n",
        "st.markdown(\"Here we can see the dataframe created during this project.\")\n",
        "\n",
        "# Read dataframe\n",
        "dataframe = pd.read_csv(\n",
        "    \"WK1_Airbnb_Amsterdam_listings_proj_solution.csv\",\n",
        "    names=[\n",
        "        \"Airbnb Listing ID\",\n",
        "        \"Price\",\n",
        "        \"Latitude\",\n",
        "        \"Longitude\",\n",
        "        \"Meters from chosen location\",\n",
        "        \"Location\",\n",
        "    ],\n",
        ")\n",
        "\n",
        "# We have a limited budget, therefore we would like to exclude\n",
        "# listings with a price above 25000 rupees per night\n",
        "dataframe = dataframe[dataframe[\"Price\"] <= 25000]\n",
        "\n",
        "# Display as integer\n",
        "dataframe[\"Airbnb Listing ID\"] = dataframe[\"Airbnb Listing ID\"].astype(int)\n",
        "# Round of values\n",
        "dataframe[\"Price\"] = \"₹ \" + dataframe[\"Price\"].round(2).astype(str) \n",
        "# Rename the number to a string\n",
        "dataframe[\"Location\"] = dataframe[\"Location\"].replace(\n",
        "    {1.0: \"To visit\", 0.0: \"Airbnb listing\"}\n",
        ")\n",
        "\n",
        "# Display dataframe and text\n",
        "st.dataframe(dataframe)\n",
        "st.markdown(\"Below is a map showing all the Airbnb listings with a red dot and the location we've chosen with a blue dot.\")\n",
        "\n",
        "# Create the plotly express figure\n",
        "fig = px.scatter_mapbox(\n",
        "    dataframe,\n",
        "    lat=\"Latitude\",\n",
        "    lon=\"Longitude\",\n",
        "    color=\"Location\",\n",
        "    color_discrete_sequence=[\"blue\", \"red\"],\n",
        "    zoom=11,\n",
        "    height=500,\n",
        "    width=800,\n",
        "    hover_name=\"Price\",\n",
        "    hover_data=[\"Meters from chosen location\", \"Location\"],\n",
        "    labels={\"color\": \"Locations\"},\n",
        ")\n",
        "fig.update_geos(center=dict(lat=dataframe.iloc[0][2], lon=dataframe.iloc[0][3]))\n",
        "fig.update_layout(mapbox_style=\"stamen-terrain\")\n",
        "\n",
        "# Show the figure\n",
        "st.plotly_chart(fig, use_container_width=True)"
      ],
      "metadata": {
        "id": "RMq6a-RfIn4U",
        "colab": {
          "base_uri": "https://localhost:8080/"
        },
        "outputId": "6a103d05-d153-4353-f9f4-0a9dce29725a"
      },
      "id": "RMq6a-RfIn4U",
      "execution_count": 28,
      "outputs": [
        {
          "output_type": "stream",
          "name": "stdout",
          "text": [
            "Writing streamlit_app.py\n"
          ]
        }
      ]
    },
    {
      "cell_type": "code",
      "source": [
        "from google.colab import files\n",
        "\n",
        "# Download the file locally\n",
        "files.download('streamlit_app.py')"
      ],
      "metadata": {
        "id": "zZw7Ynwr9h3Z",
        "colab": {
          "base_uri": "https://localhost:8080/",
          "height": 17
        },
        "outputId": "c0a24f6f-245c-42f6-e92a-946dd17704ec"
      },
      "id": "zZw7Ynwr9h3Z",
      "execution_count": 29,
      "outputs": [
        {
          "output_type": "display_data",
          "data": {
            "text/plain": [
              "<IPython.core.display.Javascript object>"
            ],
            "application/javascript": [
              "\n",
              "    async function download(id, filename, size) {\n",
              "      if (!google.colab.kernel.accessAllowed) {\n",
              "        return;\n",
              "      }\n",
              "      const div = document.createElement('div');\n",
              "      const label = document.createElement('label');\n",
              "      label.textContent = `Downloading \"${filename}\": `;\n",
              "      div.appendChild(label);\n",
              "      const progress = document.createElement('progress');\n",
              "      progress.max = size;\n",
              "      div.appendChild(progress);\n",
              "      document.body.appendChild(div);\n",
              "\n",
              "      const buffers = [];\n",
              "      let downloaded = 0;\n",
              "\n",
              "      const channel = await google.colab.kernel.comms.open(id);\n",
              "      // Send a message to notify the kernel that we're ready.\n",
              "      channel.send({})\n",
              "\n",
              "      for await (const message of channel.messages) {\n",
              "        // Send a message to notify the kernel that we're ready.\n",
              "        channel.send({})\n",
              "        if (message.buffers) {\n",
              "          for (const buffer of message.buffers) {\n",
              "            buffers.push(buffer);\n",
              "            downloaded += buffer.byteLength;\n",
              "            progress.value = downloaded;\n",
              "          }\n",
              "        }\n",
              "      }\n",
              "      const blob = new Blob(buffers, {type: 'application/binary'});\n",
              "      const a = document.createElement('a');\n",
              "      a.href = window.URL.createObjectURL(blob);\n",
              "      a.download = filename;\n",
              "      div.appendChild(a);\n",
              "      a.click();\n",
              "      div.remove();\n",
              "    }\n",
              "  "
            ]
          },
          "metadata": {}
        },
        {
          "output_type": "display_data",
          "data": {
            "text/plain": [
              "<IPython.core.display.Javascript object>"
            ],
            "application/javascript": [
              "download(\"download_7b0c370d-9e73-4de2-8ada-41bdfb40af67\", \"streamlit_app.py\", 1751)"
            ]
          },
          "metadata": {}
        }
      ]
    },
    {
      "cell_type": "code",
      "source": [
        "%%writefile requirements.txt\n",
        "pandas\n",
        "streamlit\n",
        "plotly"
      ],
      "metadata": {
        "id": "B-qGmYOHNUQN",
        "colab": {
          "base_uri": "https://localhost:8080/"
        },
        "outputId": "fa0d6d03-1fca-44e9-ea2b-f24d21794480"
      },
      "id": "B-qGmYOHNUQN",
      "execution_count": 30,
      "outputs": [
        {
          "output_type": "stream",
          "name": "stdout",
          "text": [
            "Writing requirements.txt\n"
          ]
        }
      ]
    },
    {
      "cell_type": "code",
      "source": [
        "from google.colab import files\n",
        "\n",
        "# Download the file locally\n",
        "files.download('requirements.txt')"
      ],
      "metadata": {
        "id": "AXjHxtJXNVZf",
        "colab": {
          "base_uri": "https://localhost:8080/",
          "height": 17
        },
        "outputId": "a3daf6e4-6ca7-46d1-e0d7-b9365dfb8e32"
      },
      "id": "AXjHxtJXNVZf",
      "execution_count": 31,
      "outputs": [
        {
          "output_type": "display_data",
          "data": {
            "text/plain": [
              "<IPython.core.display.Javascript object>"
            ],
            "application/javascript": [
              "\n",
              "    async function download(id, filename, size) {\n",
              "      if (!google.colab.kernel.accessAllowed) {\n",
              "        return;\n",
              "      }\n",
              "      const div = document.createElement('div');\n",
              "      const label = document.createElement('label');\n",
              "      label.textContent = `Downloading \"${filename}\": `;\n",
              "      div.appendChild(label);\n",
              "      const progress = document.createElement('progress');\n",
              "      progress.max = size;\n",
              "      div.appendChild(progress);\n",
              "      document.body.appendChild(div);\n",
              "\n",
              "      const buffers = [];\n",
              "      let downloaded = 0;\n",
              "\n",
              "      const channel = await google.colab.kernel.comms.open(id);\n",
              "      // Send a message to notify the kernel that we're ready.\n",
              "      channel.send({})\n",
              "\n",
              "      for await (const message of channel.messages) {\n",
              "        // Send a message to notify the kernel that we're ready.\n",
              "        channel.send({})\n",
              "        if (message.buffers) {\n",
              "          for (const buffer of message.buffers) {\n",
              "            buffers.push(buffer);\n",
              "            downloaded += buffer.byteLength;\n",
              "            progress.value = downloaded;\n",
              "          }\n",
              "        }\n",
              "      }\n",
              "      const blob = new Blob(buffers, {type: 'application/binary'});\n",
              "      const a = document.createElement('a');\n",
              "      a.href = window.URL.createObjectURL(blob);\n",
              "      a.download = filename;\n",
              "      div.appendChild(a);\n",
              "      a.click();\n",
              "      div.remove();\n",
              "    }\n",
              "  "
            ]
          },
          "metadata": {}
        },
        {
          "output_type": "display_data",
          "data": {
            "text/plain": [
              "<IPython.core.display.Javascript object>"
            ],
            "application/javascript": [
              "download(\"download_bcc32477-49e1-4399-b604-2d1e5021b6a6\", \"requirements.txt\", 24)"
            ]
          },
          "metadata": {}
        }
      ]
    }
  ],
  "metadata": {
    "kernelspec": {
      "display_name": "Python 3 (ipykernel)",
      "language": "python",
      "name": "python3"
    },
    "language_info": {
      "codemirror_mode": {
        "name": "ipython",
        "version": 3
      },
      "file_extension": ".py",
      "mimetype": "text/x-python",
      "name": "python",
      "nbconvert_exporter": "python",
      "pygments_lexer": "ipython3",
      "version": "3.10.4"
    },
    "colab": {
      "provenance": []
    }
  },
  "nbformat": 4,
  "nbformat_minor": 5
}
